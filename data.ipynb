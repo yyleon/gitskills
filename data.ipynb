{
 "cells": [
  {
   "cell_type": "code",
   "execution_count": 17,
   "metadata": {},
   "outputs": [],
   "source": [
    "import pandas as pd\n",
    "import numpy as np\n",
    "import os"
   ]
  },
  {
   "cell_type": "code",
   "execution_count": 18,
   "metadata": {},
   "outputs": [],
   "source": [
    "os.chdir('/home/leon/db/')"
   ]
  },
  {
   "cell_type": "code",
   "execution_count": 19,
   "metadata": {},
   "outputs": [
    {
     "data": {
      "text/plain": [
       "'/home/leon/db'"
      ]
     },
     "execution_count": 19,
     "metadata": {},
     "output_type": "execute_result"
    }
   ],
   "source": [
    "pwd"
   ]
  },
  {
   "cell_type": "code",
   "execution_count": 20,
   "metadata": {},
   "outputs": [],
   "source": [
    "df_bet=pd.read_csv('BOB投注属性表.txt',sep='\\t')\n",
    "df_bet=df_bet.loc[(df_bet['bet_day']>='2021-08-01') & (df_bet['bet_day']<='2021-08-01'),:]\n",
    "df_bet_summary=df_bet.groupby(by=['name']).agg({'valid_bet_amount':'sum'}).reset_index()"
   ]
  },
  {
   "cell_type": "code",
   "execution_count": 21,
   "metadata": {},
   "outputs": [],
   "source": [
    "df_member=pd.read_csv('BOB用户属性表.txt',sep='\\t')\n",
    "df_member['top_name']=df_member['top_id'].map(df_member.set_index('id')['name'])\n",
    "df_member['member_vip']=df_member['grade']-1\n",
    "df_member=df_member.loc[:,['name','top_name','member_vip','status','tag_name']]"
   ]
  },
  {
   "cell_type": "code",
   "execution_count": 22,
   "metadata": {},
   "outputs": [],
   "source": [
    "df_bet_summary1=pd.merge(left=df_bet_summary,right=df_member,how='left',on='name')\n",
    "df_bet_summary1=df_bet_summary1.drop_duplicates(subset=['name'])"
   ]
  }
 ],
 "metadata": {
  "interpreter": {
   "hash": "916dbcbb3f70747c44a77c7bcd40155683ae19c65e1c03b4aa3499c5328201f1"
  },
  "kernelspec": {
   "display_name": "Python 3.8.10 64-bit",
   "name": "python3"
  },
  "language_info": {
   "codemirror_mode": {
    "name": "ipython",
    "version": 3
   },
   "file_extension": ".py",
   "mimetype": "text/x-python",
   "name": "python",
   "nbconvert_exporter": "python",
   "pygments_lexer": "ipython3",
   "version": "3.8.10"
  },
  "orig_nbformat": 4
 },
 "nbformat": 4,
 "nbformat_minor": 2
}